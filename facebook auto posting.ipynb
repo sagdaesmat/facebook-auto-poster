{
 "cells": [
  {
   "cell_type": "code",
   "execution_count": 4,
   "id": "342b1b03",
   "metadata": {},
   "outputs": [
    {
     "name": "stdout",
     "output_type": "stream",
     "text": [
      "Enter your email or phone : ········\n",
      " Enter your password : ········\n",
      " Enter your post content: Hi , I am taking an AI course with ENG. Ahmed Hafez.\n",
      " Post published.\n"
     ]
    }
   ],
   "source": [
    "from selenium import webdriver\n",
    "from selenium.webdriver.common.by import By\n",
    "import time\n",
    "from selenium.webdriver.support.ui import WebDriverWait\n",
    "from selenium.webdriver.support import expected_conditions as EC\n",
    "from selenium.webdriver.common.action_chains import ActionChains\n",
    "from getpass import getpass\n",
    "\n",
    "\n",
    "email = getpass(\"Enter your email or phone : \")\n",
    "password = getpass(\" Enter your password : \")\n",
    "post_text = input(\" Enter your post content: \")\n",
    "\n",
    "\n",
    "driver = webdriver.Firefox()\n",
    "driver.get(\"https://www.facebook.com/\")\n",
    "time.sleep(5)\n",
    "\n",
    "\n",
    "def slow_type(element, text, delay=0.15):\n",
    "    for char in text:\n",
    "        element.send_keys(char)\n",
    "        time.sleep(delay)\n",
    "\n",
    "email_input = driver.find_element(By.ID, \"email\")\n",
    "password_input = driver.find_element(By.ID, \"pass\")\n",
    "\n",
    "slow_type(email_input, email)\n",
    "slow_type(password_input, password)\n",
    "\n",
    "driver.find_element(By.NAME, \"login\").click()\n",
    "time.sleep(7)\n",
    "\n",
    "\n",
    "try:\n",
    "    create_post_button = WebDriverWait(driver, 10).until(\n",
    "        EC.element_to_be_clickable((By.XPATH, \"//span[contains(text(), \\\"What's on your mind\\\")]\"))\n",
    "    )\n",
    "    driver.execute_script(\"arguments[0].click();\", create_post_button)\n",
    "except:\n",
    "    print(\" Couldn't find the post box.\")\n",
    "    driver.quit()\n",
    "    exit()\n",
    "\n",
    "\n",
    "try:\n",
    "    text_box = WebDriverWait(driver, 20).until(\n",
    "        EC.presence_of_element_located((By.XPATH, \"//div[@role='textbox' and contains(@aria-placeholder, \\\"What's on your mind\\\")]\"))\n",
    "    )\n",
    "    actions = ActionChains(driver)\n",
    "    actions.move_to_element(text_box).click().send_keys(post_text).perform()\n",
    "except:\n",
    "    print(\" Couldn't find the text box.\")\n",
    "    driver.quit()\n",
    "    exit()\n",
    "\n",
    "\n",
    "try:\n",
    "    post_button = WebDriverWait(driver, 15).until(\n",
    "        EC.element_to_be_clickable((By.XPATH, \"//span[text()='Post']/ancestor::div[@role='button']\"))\n",
    "    )\n",
    "    post_button.click()\n",
    "    print(\" Post published.\")\n",
    "except:\n",
    "    print(\" Couldn't click the post button.\")\n",
    "    driver.quit()==G\n",
    "    exit()\n",
    "\n",
    "time.sleep(5)\n",
    "driver.quit()\n"
   ]
  },
  {
   "cell_type": "code",
   "execution_count": null,
   "id": "9b4f9f08",
   "metadata": {},
   "outputs": [],
   "source": []
  }
 ],
 "metadata": {
  "kernelspec": {
   "display_name": "Python 3 (ipykernel)",
   "language": "python",
   "name": "python3"
  },
  "language_info": {
   "codemirror_mode": {
    "name": "ipython",
    "version": 3
   },
   "file_extension": ".py",
   "mimetype": "text/x-python",
   "name": "python",
   "nbconvert_exporter": "python",
   "pygments_lexer": "ipython3",
   "version": "3.11.5"
  }
 },
 "nbformat": 4,
 "nbformat_minor": 5
}
